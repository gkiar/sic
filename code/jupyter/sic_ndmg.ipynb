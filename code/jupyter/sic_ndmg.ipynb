{
 "cells": [
  {
   "cell_type": "markdown",
   "metadata": {},
   "source": [
    "# SIC for ndmg Pipeline\n",
    "\n",
    "**ndmg** contains two types of analysis: subject level, and participant level.\n",
    "\n",
    "### Run Subject Level Analysis\n",
    "\n",
    "The first step of ndmg turns 'raw' Nifti images into connectomes. The cell below executes the first step of the pipeline on a demo subject. The subject has been heavily downsampled for this computational demonstration, which may produce non-neurofidelic results.\n",
    "\n",
    "N.B. the command below is more complicated in appearance than that documented elsewhere, which is because downsampling the data to produce a fast-running demo required new atlases and labels to be generated, which can normally be inferred by the pipeline.\n",
    "\n",
    "In order to run the code, click anywhere on the code below, and press the \"play\" button in the menu bar above (between down arrow and square). An indication that it is running is that an asterisk will appear on the left hand side of the cell. Don't panic if you don't see anything immediately, running the cell below should take 3-4 minutes."
   ]
  },
  {
   "cell_type": "code",
   "execution_count": null,
   "metadata": {
    "collapsed": false
   },
   "outputs": [],
   "source": [
    "%%bash\n",
    "\n",
    "ndmg_pipeline \\\n",
    "       /home/sic-user/data/KKI2009_113_1_DTI_s4.nii \\\n",
    "       /home/sic-user/data/KKI2009_113_1_DTI_s4.bval \\\n",
    "       /home/sic-user/data/KKI2009_113_1_DTI_s4.bvec \\\n",
    "       /home/sic-user/data/KKI2009_113_1_MPRAGE_s4.nii \\\n",
    "       /home/sic-user/data/MNI152_T1_1mm_s4.nii.gz \\\n",
    "       /home/sic-user/data/MNI152_T1_1mm_brain_mask_s4.nii.gz \\\n",
    "       /home/sic-user/data/outputs \\\n",
    "       /home/sic-user/data/desikan_s4.nii.gz -c"
   ]
  },
  {
   "cell_type": "markdown",
   "metadata": {},
   "source": [
    "### View Subject Level Results\n",
    "\n",
    "You can view your graph with the following code. Again, click anywhere in the block and press the \"play\" button to execute it."
   ]
  },
  {
   "cell_type": "code",
   "execution_count": null,
   "metadata": {
    "collapsed": false
   },
   "outputs": [],
   "source": [
    "import networkx as nx\n",
    "import matplotlib.pyplot as plt\n",
    "import numpy as np\n",
    "%matplotlib inline\n",
    "g = nx.read_gpickle('/home/sic-user/data/outputs/graphs/desikan_s4/KKI2009_113_1_DTI_s4_desikan_s4.gpickle')\n",
    "g = nx.adj_matrix(g).todense()\n",
    "fig = plt.figure(figsize=(7,7))\n",
    "p = plt.imshow(g, interpolation='None')"
   ]
  },
  {
   "cell_type": "markdown",
   "metadata": {},
   "source": [
    "### Run Group Level Analysis\n",
    "The second step of ndmg turns connectomes into quality plots of the data. The cell below executes the second step of the pipeline on the previously processed demo subject. This analysis should take a few seconds.\n",
    "\n",
    "Try running it!"
   ]
  },
  {
   "cell_type": "code",
   "execution_count": null,
   "metadata": {
    "collapsed": false
   },
   "outputs": [],
   "source": [
    "%%bash\n",
    "\n",
    "ndmg_bids /home/sic-user/data/outputs/graphs/ \\\n",
    "          /home/sic-user/data/outputs/qc/ \\\n",
    "          group"
   ]
  },
  {
   "cell_type": "markdown",
   "metadata": {},
   "source": [
    "### View Group Level Results\n",
    "\n",
    "The group level analysis (here only being performed on a single subject) produces a plot which tells you about your graphs. It also produces a `json` file which summarizes some information about the figure generated for future reference.\n",
    "\n",
    "Run this final code block to see summary statistics and information about the graphs."
   ]
  },
  {
   "cell_type": "code",
   "execution_count": null,
   "metadata": {
    "collapsed": false
   },
   "outputs": [],
   "source": [
    "from IPython.display import Image\n",
    "import json\n",
    "\n",
    "Image(filename='/home/sic-user/data/outputs/qc/desikan_s4/desikan_s4_summary.png')\n",
    "\n",
    "with open('/home/sic-user/data/outputs/qc/desikan_s4/desikan_s4_summary_info.json') as json_data:\n",
    "    d = json.load(json_data)\n",
    "    print(d)"
   ]
  }
 ],
 "metadata": {
  "celltoolbar": "Raw Cell Format",
  "kernelspec": {
   "display_name": "Python 2",
   "language": "python",
   "name": "python2"
  },
  "language_info": {
   "codemirror_mode": {
    "name": "ipython",
    "version": 2
   },
   "file_extension": ".py",
   "mimetype": "text/x-python",
   "name": "python",
   "nbconvert_exporter": "python",
   "pygments_lexer": "ipython2",
   "version": "2.7.11"
  }
 },
 "nbformat": 4,
 "nbformat_minor": 0
}
