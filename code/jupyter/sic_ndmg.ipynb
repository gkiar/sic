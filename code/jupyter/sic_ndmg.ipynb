{
 "cells": [
  {
   "cell_type": "markdown",
   "metadata": {},
   "source": [
    "# SIC for ndmg Pipeline\n",
    "\n",
    "**ndmg** contains two types of analysis: connectome generation and summary statistic computation.\n",
    "\n",
    "### Run Connectome Generation\n",
    "\n",
    "The first step of ndmg turns 'raw' Nifti images into connectomes. The cell below executes the first step of the pipeline on a demo subject. The subject has been heavily downsampled for this computational demonstration, which may produce non-neurofidelic results.\n",
    "\n",
    "In order to run the code, click anywhere on the code below, and press the \"play\" button in the menu bar above (between down arrow and square). An indication that it is running is that an asterisk will appear on the left hand side of the cell. Don't panic if you don't see anything immediately, running the cell below should take 3-4 minutes. When execution is completed you'll notice a wall of text appear below the code.\n",
    "\n",
    "The demo here first downloads the data (taking ~10 seconds) and then processes it through the ndmg pipeline for the remaining time. The ndmg pipeline is summarized in the figure below:\n",
    "\n",
    "![ndmg pipeline](https://raw.githubusercontent.com/neurodata/sic/master/figs/ndmgworkflow.png)\n",
    "\n",
    "Finally, if you get \"`process interrupted`\" as an output for any step of this notebook refresh the page and start again from the top; this is due to the server rebooting which it is scheduled to do every few hours."
   ]
  },
  {
   "cell_type": "code",
   "execution_count": null,
   "metadata": {
    "collapsed": false
   },
   "outputs": [],
   "source": [
    "%%bash\n",
    "\n",
    "ndmg_demo-dwi"
   ]
  },
  {
   "cell_type": "markdown",
   "metadata": {},
   "source": [
    "### View Connectome Generation Results\n",
    "\n",
    "You can view your graph with the following code. Again, click anywhere in the block and press the \"play\" button to execute it."
   ]
  },
  {
   "cell_type": "code",
   "execution_count": null,
   "metadata": {
    "collapsed": false
   },
   "outputs": [],
   "source": [
    "import networkx as nx\n",
    "import matplotlib.pyplot as plt\n",
    "import numpy as np\n",
    "%matplotlib inline\n",
    "g = nx.read_gpickle('/tmp/small_demo/outputs/graphs/desikan/KKI2009_113_1_DTI_s4_desikan.gpickle')\n",
    "g = nx.adj_matrix(g).todense()\n",
    "fig = plt.figure(figsize=(7,7))\n",
    "p = plt.imshow(g, interpolation='None')"
   ]
  },
  {
   "cell_type": "markdown",
   "metadata": {},
   "source": [
    "### Run Summary Statistic Computation\n",
    "The second step of ndmg turns connectomes into quality plots of the data. The cell below executes the second step of the pipeline on the previously processed demo subject. This analysis should take a few seconds.\n",
    "\n",
    "Try running it!"
   ]
  },
  {
   "cell_type": "code",
   "execution_count": null,
   "metadata": {
    "collapsed": false
   },
   "outputs": [],
   "source": [
    "%%bash\n",
    "\n",
    "ndmg_demo-qc \\\n",
    "\n",
    "cp /tmp/small_demo/outputs/qc/desikan/plot.html /home/sic-user/qc_desikan_plot.html"
   ]
  },
  {
   "cell_type": "markdown",
   "metadata": {},
   "source": [
    "### View Summary Statistics\n",
    "\n",
    "The summary statistic computation produces a plot which tells you about your graphs.\n",
    "\n",
    "Click [this link](./qc_desikan_plot.html) to view the result!"
   ]
  }
 ],
 "metadata": {
  "celltoolbar": "Raw Cell Format",
  "kernelspec": {
   "display_name": "Python 2",
   "language": "python",
   "name": "python2"
  },
  "language_info": {
   "codemirror_mode": {
    "name": "ipython",
    "version": 2
   },
   "file_extension": ".py",
   "mimetype": "text/x-python",
   "name": "python",
   "nbconvert_exporter": "python",
   "pygments_lexer": "ipython2",
   "version": "2.7.11"
  }
 },
 "nbformat": 4,
 "nbformat_minor": 0
}
